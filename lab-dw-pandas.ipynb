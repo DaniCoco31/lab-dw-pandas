{
 "cells": [
  {
   "cell_type": "markdown",
   "id": "25d7736c-ba17-4aff-b6bb-66eba20fbf4e",
   "metadata": {},
   "source": [
    "# Lab | Pandas"
   ]
  },
  {
   "cell_type": "markdown",
   "id": "d1973e9e-8be6-4039-b70e-d73ee0d94c99",
   "metadata": {},
   "source": [
    "In this lab, we will be working with the customer data from an insurance company, which can be found in the CSV file located at the following link: https://raw.githubusercontent.com/data-bootcamp-v4/data/main/file1.csv\n",
    "\n",
    "The data includes information such as customer ID, state, gender, education, income, and other variables that can be used to perform various analyses.\n",
    "\n",
    "Throughout the lab, we will be using the pandas library in Python to manipulate and analyze the data. Pandas is a powerful library that provides various data manipulation and analysis tools, including the ability to load and manipulate data from a variety of sources, including CSV files."
   ]
  },
  {
   "cell_type": "markdown",
   "id": "8045146f-f4f7-44d9-8cd9-130d6400c73a",
   "metadata": {},
   "source": [
    "### Data Description\n",
    "\n",
    "- Customer - Customer ID\n",
    "\n",
    "- ST - State where customers live\n",
    "\n",
    "- Gender - Gender of the customer\n",
    "\n",
    "- Education - Background education of customers \n",
    "\n",
    "- Customer Lifetime Value - Customer lifetime value(CLV) is the total revenue the client will derive from their entire relationship with a customer. In other words, is the predicted or calculated value of a customer over their entire duration as a policyholder with the insurance company. It is an estimation of the net profit that the insurance company expects to generate from a customer throughout their relationship with the company. Customer Lifetime Value takes into account factors such as the duration of the customer's policy, premium payments, claim history, renewal likelihood, and potential additional services or products the customer may purchase. It helps insurers assess the long-term profitability and value associated with retaining a particular customer.\n",
    "\n",
    "- Income - Customers income\n",
    "\n",
    "- Monthly Premium Auto - Amount of money the customer pays on a monthly basis as a premium for their auto insurance coverage. It represents the recurring cost that the insured person must pay to maintain their insurance policy and receive coverage for potential damages, accidents, or other covered events related to their vehicle.\n",
    "\n",
    "- Number of Open Complaints - Number of complaints the customer opened\n",
    "\n",
    "- Policy Type - There are three type of policies in car insurance (Corporate Auto, Personal Auto, and Special Auto)\n",
    "\n",
    "- Vehicle Class - Type of vehicle classes that customers have Two-Door Car, Four-Door Car SUV, Luxury SUV, Sports Car, and Luxury Car\n",
    "\n",
    "- Total Claim Amount - the sum of all claims made by the customer. It represents the total monetary value of all approved claims for incidents such as accidents, theft, vandalism, or other covered events.\n"
   ]
  },
  {
   "cell_type": "markdown",
   "id": "3a72419b-20fc-4905-817a-8c83abc59de6",
   "metadata": {},
   "source": [
    "External Resources: https://towardsdatascience.com/filtering-data-frames-in-pandas-b570b1f834b9"
   ]
  },
  {
   "cell_type": "markdown",
   "id": "8f8ece17-e919-4e23-96c0-c7c59778436a",
   "metadata": {},
   "source": [
    "## Challenge 1: Understanding the data\n",
    "\n",
    "In this challenge, you will use pandas to explore a given dataset. Your task is to gain a deep understanding of the data by analyzing its characteristics, dimensions, and statistical properties."
   ]
  },
  {
   "cell_type": "markdown",
   "id": "91437bd5-59a6-49c0-8150-ef0e6e6eb253",
   "metadata": {},
   "source": [
    "- Identify the dimensions of the dataset by determining the number of rows and columns it contains.\n",
    "- Determine the data types of each column and evaluate whether they are appropriate for the nature of the variable. You should also provide suggestions for fixing any incorrect data types.\n",
    "- Identify the number of unique values for each column and determine which columns appear to be categorical. You should also describe the unique values of each categorical column and the range of values for numerical columns, and give your insights.\n",
    "- Compute summary statistics such as mean, median, mode, standard deviation, and quartiles to understand the central tendency and distribution of the data for numerical columns. You should also provide your conclusions based on these summary statistics.\n",
    "- Compute summary statistics for categorical columns and providing your conclusions based on these statistics."
   ]
  },
  {
   "cell_type": "code",
   "execution_count": 1,
   "id": "ee20f7a6",
   "metadata": {},
   "outputs": [
    {
     "data": {
      "text/html": [
       "<div>\n",
       "<style scoped>\n",
       "    .dataframe tbody tr th:only-of-type {\n",
       "        vertical-align: middle;\n",
       "    }\n",
       "\n",
       "    .dataframe tbody tr th {\n",
       "        vertical-align: top;\n",
       "    }\n",
       "\n",
       "    .dataframe thead th {\n",
       "        text-align: right;\n",
       "    }\n",
       "</style>\n",
       "<table border=\"1\" class=\"dataframe\">\n",
       "  <thead>\n",
       "    <tr style=\"text-align: right;\">\n",
       "      <th></th>\n",
       "      <th>Customer</th>\n",
       "      <th>ST</th>\n",
       "      <th>GENDER</th>\n",
       "      <th>Education</th>\n",
       "      <th>Customer Lifetime Value</th>\n",
       "      <th>Income</th>\n",
       "      <th>Monthly Premium Auto</th>\n",
       "      <th>Number of Open Complaints</th>\n",
       "      <th>Policy Type</th>\n",
       "      <th>Vehicle Class</th>\n",
       "      <th>Total Claim Amount</th>\n",
       "    </tr>\n",
       "  </thead>\n",
       "  <tbody>\n",
       "    <tr>\n",
       "      <th>0</th>\n",
       "      <td>RB50392</td>\n",
       "      <td>Washington</td>\n",
       "      <td>NaN</td>\n",
       "      <td>Master</td>\n",
       "      <td>NaN</td>\n",
       "      <td>0.0</td>\n",
       "      <td>1000.0</td>\n",
       "      <td>1/0/00</td>\n",
       "      <td>Personal Auto</td>\n",
       "      <td>Four-Door Car</td>\n",
       "      <td>2.704934</td>\n",
       "    </tr>\n",
       "    <tr>\n",
       "      <th>1</th>\n",
       "      <td>QZ44356</td>\n",
       "      <td>Arizona</td>\n",
       "      <td>F</td>\n",
       "      <td>Bachelor</td>\n",
       "      <td>697953.59%</td>\n",
       "      <td>0.0</td>\n",
       "      <td>94.0</td>\n",
       "      <td>1/0/00</td>\n",
       "      <td>Personal Auto</td>\n",
       "      <td>Four-Door Car</td>\n",
       "      <td>1131.464935</td>\n",
       "    </tr>\n",
       "    <tr>\n",
       "      <th>2</th>\n",
       "      <td>AI49188</td>\n",
       "      <td>Nevada</td>\n",
       "      <td>F</td>\n",
       "      <td>Bachelor</td>\n",
       "      <td>1288743.17%</td>\n",
       "      <td>48767.0</td>\n",
       "      <td>108.0</td>\n",
       "      <td>1/0/00</td>\n",
       "      <td>Personal Auto</td>\n",
       "      <td>Two-Door Car</td>\n",
       "      <td>566.472247</td>\n",
       "    </tr>\n",
       "    <tr>\n",
       "      <th>3</th>\n",
       "      <td>WW63253</td>\n",
       "      <td>California</td>\n",
       "      <td>M</td>\n",
       "      <td>Bachelor</td>\n",
       "      <td>764586.18%</td>\n",
       "      <td>0.0</td>\n",
       "      <td>106.0</td>\n",
       "      <td>1/0/00</td>\n",
       "      <td>Corporate Auto</td>\n",
       "      <td>SUV</td>\n",
       "      <td>529.881344</td>\n",
       "    </tr>\n",
       "    <tr>\n",
       "      <th>4</th>\n",
       "      <td>GA49547</td>\n",
       "      <td>Washington</td>\n",
       "      <td>M</td>\n",
       "      <td>High School or Below</td>\n",
       "      <td>536307.65%</td>\n",
       "      <td>36357.0</td>\n",
       "      <td>68.0</td>\n",
       "      <td>1/0/00</td>\n",
       "      <td>Personal Auto</td>\n",
       "      <td>Four-Door Car</td>\n",
       "      <td>17.269323</td>\n",
       "    </tr>\n",
       "    <tr>\n",
       "      <th>5</th>\n",
       "      <td>OC83172</td>\n",
       "      <td>Oregon</td>\n",
       "      <td>F</td>\n",
       "      <td>Bachelor</td>\n",
       "      <td>825629.78%</td>\n",
       "      <td>62902.0</td>\n",
       "      <td>69.0</td>\n",
       "      <td>1/0/00</td>\n",
       "      <td>Personal Auto</td>\n",
       "      <td>Two-Door Car</td>\n",
       "      <td>159.383042</td>\n",
       "    </tr>\n",
       "    <tr>\n",
       "      <th>6</th>\n",
       "      <td>XZ87318</td>\n",
       "      <td>Oregon</td>\n",
       "      <td>F</td>\n",
       "      <td>College</td>\n",
       "      <td>538089.86%</td>\n",
       "      <td>55350.0</td>\n",
       "      <td>67.0</td>\n",
       "      <td>1/0/00</td>\n",
       "      <td>Corporate Auto</td>\n",
       "      <td>Four-Door Car</td>\n",
       "      <td>321.600000</td>\n",
       "    </tr>\n",
       "    <tr>\n",
       "      <th>7</th>\n",
       "      <td>CF85061</td>\n",
       "      <td>Arizona</td>\n",
       "      <td>M</td>\n",
       "      <td>Master</td>\n",
       "      <td>721610.03%</td>\n",
       "      <td>0.0</td>\n",
       "      <td>101.0</td>\n",
       "      <td>1/0/00</td>\n",
       "      <td>Corporate Auto</td>\n",
       "      <td>Four-Door Car</td>\n",
       "      <td>363.029680</td>\n",
       "    </tr>\n",
       "    <tr>\n",
       "      <th>8</th>\n",
       "      <td>DY87989</td>\n",
       "      <td>Oregon</td>\n",
       "      <td>M</td>\n",
       "      <td>Bachelor</td>\n",
       "      <td>2412750.40%</td>\n",
       "      <td>14072.0</td>\n",
       "      <td>71.0</td>\n",
       "      <td>1/0/00</td>\n",
       "      <td>Corporate Auto</td>\n",
       "      <td>Four-Door Car</td>\n",
       "      <td>511.200000</td>\n",
       "    </tr>\n",
       "    <tr>\n",
       "      <th>9</th>\n",
       "      <td>BQ94931</td>\n",
       "      <td>Oregon</td>\n",
       "      <td>F</td>\n",
       "      <td>College</td>\n",
       "      <td>738817.81%</td>\n",
       "      <td>28812.0</td>\n",
       "      <td>93.0</td>\n",
       "      <td>1/0/00</td>\n",
       "      <td>Special Auto</td>\n",
       "      <td>Four-Door Car</td>\n",
       "      <td>425.527834</td>\n",
       "    </tr>\n",
       "  </tbody>\n",
       "</table>\n",
       "</div>"
      ],
      "text/plain": [
       "  Customer          ST GENDER             Education Customer Lifetime Value  \\\n",
       "0  RB50392  Washington    NaN                Master                     NaN   \n",
       "1  QZ44356     Arizona      F              Bachelor              697953.59%   \n",
       "2  AI49188      Nevada      F              Bachelor             1288743.17%   \n",
       "3  WW63253  California      M              Bachelor              764586.18%   \n",
       "4  GA49547  Washington      M  High School or Below              536307.65%   \n",
       "5  OC83172      Oregon      F              Bachelor              825629.78%   \n",
       "6  XZ87318      Oregon      F               College              538089.86%   \n",
       "7  CF85061     Arizona      M                Master              721610.03%   \n",
       "8  DY87989      Oregon      M              Bachelor             2412750.40%   \n",
       "9  BQ94931      Oregon      F               College              738817.81%   \n",
       "\n",
       "    Income  Monthly Premium Auto Number of Open Complaints     Policy Type  \\\n",
       "0      0.0                1000.0                    1/0/00   Personal Auto   \n",
       "1      0.0                  94.0                    1/0/00   Personal Auto   \n",
       "2  48767.0                 108.0                    1/0/00   Personal Auto   \n",
       "3      0.0                 106.0                    1/0/00  Corporate Auto   \n",
       "4  36357.0                  68.0                    1/0/00   Personal Auto   \n",
       "5  62902.0                  69.0                    1/0/00   Personal Auto   \n",
       "6  55350.0                  67.0                    1/0/00  Corporate Auto   \n",
       "7      0.0                 101.0                    1/0/00  Corporate Auto   \n",
       "8  14072.0                  71.0                    1/0/00  Corporate Auto   \n",
       "9  28812.0                  93.0                    1/0/00    Special Auto   \n",
       "\n",
       "   Vehicle Class  Total Claim Amount  \n",
       "0  Four-Door Car            2.704934  \n",
       "1  Four-Door Car         1131.464935  \n",
       "2   Two-Door Car          566.472247  \n",
       "3            SUV          529.881344  \n",
       "4  Four-Door Car           17.269323  \n",
       "5   Two-Door Car          159.383042  \n",
       "6  Four-Door Car          321.600000  \n",
       "7  Four-Door Car          363.029680  \n",
       "8  Four-Door Car          511.200000  \n",
       "9  Four-Door Car          425.527834  "
      ]
     },
     "execution_count": 1,
     "metadata": {},
     "output_type": "execute_result"
    }
   ],
   "source": [
    "# Your code here\n",
    "import pandas as pd\n",
    "url = 'https://raw.githubusercontent.com/data-bootcamp-v4/data/main/file1.csv'\n",
    "insurance_company = pd.read_csv(url)\n",
    "insurance_company.head(10)"
   ]
  },
  {
   "cell_type": "code",
   "execution_count": 2,
   "id": "38932072",
   "metadata": {},
   "outputs": [
    {
     "name": "stdout",
     "output_type": "stream",
     "text": [
      "Rows and columns(4008, 11)\n"
     ]
    }
   ],
   "source": [
    "#Identify the dimensions of the dataset by determining the number of rows and columns it contains.\n",
    "print(f\"Rows and columns{insurance_company.shape}\")"
   ]
  },
  {
   "cell_type": "code",
   "execution_count": 3,
   "id": "dd4e8cd8-a6f6-486c-a5c4-1745b0c035f4",
   "metadata": {},
   "outputs": [
    {
     "name": "stdout",
     "output_type": "stream",
     "text": [
      "<class 'pandas.core.frame.DataFrame'>\n",
      "RangeIndex: 4008 entries, 0 to 4007\n",
      "Data columns (total 11 columns):\n",
      " #   Column                     Non-Null Count  Dtype  \n",
      "---  ------                     --------------  -----  \n",
      " 0   Customer                   1071 non-null   object \n",
      " 1   ST                         1071 non-null   object \n",
      " 2   GENDER                     954 non-null    object \n",
      " 3   Education                  1071 non-null   object \n",
      " 4   Customer Lifetime Value    1068 non-null   object \n",
      " 5   Income                     1071 non-null   float64\n",
      " 6   Monthly Premium Auto       1071 non-null   float64\n",
      " 7   Number of Open Complaints  1071 non-null   object \n",
      " 8   Policy Type                1071 non-null   object \n",
      " 9   Vehicle Class              1071 non-null   object \n",
      " 10  Total Claim Amount         1071 non-null   float64\n",
      "dtypes: float64(3), object(8)\n",
      "memory usage: 344.6+ KB\n"
     ]
    }
   ],
   "source": [
    "#Determine the data types of each column and evaluate whether they are appropriate for the nature of the variable. You should also provide suggestions for fixing any incorrect data types.\n",
    "insurance_company.info()\n"
   ]
  },
  {
   "cell_type": "code",
   "execution_count": 4,
   "id": "5a4b91fe",
   "metadata": {},
   "outputs": [
    {
     "name": "stdout",
     "output_type": "stream",
     "text": [
      "             Income  Monthly Premium Auto\n",
      "count   1071.000000           1071.000000\n",
      "mean   39295.701214            193.234360\n",
      "std    30469.427060           1601.190369\n",
      "min        0.000000             61.000000\n",
      "25%    14072.000000             68.000000\n",
      "50%    36234.000000             83.000000\n",
      "75%    64631.000000            109.500000\n",
      "max    99960.000000          35354.000000\n"
     ]
    }
   ],
   "source": [
    "numerical_variables = [\"Customer Lifetime Value\", \"Income\", \"Monthly Premium Auto\",'Number of Open Complaints'] \n",
    "print(insurance_company[numerical_variables].describe())"
   ]
  },
  {
   "cell_type": "code",
   "execution_count": 5,
   "id": "52ffa532",
   "metadata": {},
   "outputs": [
    {
     "name": "stdout",
     "output_type": "stream",
     "text": [
      "list[Index(['Customer', 'ST', 'GENDER', 'Education', 'Customer Lifetime Value',\n",
      "       'Income', 'Monthly Premium Auto', 'Number of Open Complaints',\n",
      "       'Policy Type', 'Vehicle Class', 'Total Claim Amount'],\n",
      "      dtype='object')]\n",
      "Customer : ['RB50392', 'QZ44356', 'AI49188', 'WW63253', 'GA49547', 'OC83172', 'XZ87318', 'CF85061', 'DY87989', 'BQ94931', 'SX51350', 'VQ65197', 'DP39365', 'SJ95423', 'IL66569', 'BW63560', 'FV94802', 'OE15005', 'WC83389', 'FL50705', 'ZK25313', 'QK46697', 'YH23384', 'TZ98966', 'HM55802', 'FS42516', 'US89481', 'HS14476', 'GE62437', 'EJ77678', 'SV85652', 'UL64533', 'PF41800', 'HD95276', 'SK67821', 'YV55495', 'KY38074', 'DM79012', 'CM61827', 'WC35801', 'QG25316', 'MB98372', 'IL19217', 'SR38658', 'YD87931', 'HG65722', 'BU27331', 'XM45289', 'KP34198', 'SH90947', 'WE95729', 'PY51963', 'RB69909', 'NW21079', 'FR46645', 'SY17488', 'AP67935', 'FS37417', 'ML29312', 'UB61619', 'CD86811', 'RU83859', 'FG63582', 'NN71951', 'WB37082', 'SM52139', 'FL82372', 'DP45816', 'GW33762', 'RZ33670', 'PY70169', 'MO91628', 'HW87852', 'HB20453', 'BN87372', 'YX23800', 'DZ87709', 'XW13033', 'SP81997', 'OM82309', 'ZU35962', 'VH85817', 'DT85712', 'YJ88573', 'SQ19467', 'YB66933', 'ET79815', 'QC35222', 'CJ15590', 'OI48267', 'JY67916', 'OW15518', 'CZ33664', 'WK30175', 'ON44465', 'TV87155', 'KH48895', 'NZ30757', 'RI22468', 'FZ30935', 'UG93476', 'AB96670', 'XK64261', 'EV68375', 'UN51653', 'TO96662', 'MR52087', 'DE75225', 'EP80820', 'GU99037', 'WI57118', 'GP39118', 'MQ14219', 'KN20603', 'SG20925', 'JI70886', 'VF72557', 'OX28638', 'SK55033', 'OO88645', 'FM14335', 'CW82151', 'DY22043', 'SH36774', 'EM43724', 'FH85960', 'XA55993', 'GO36627', 'QH48047', 'HS28694', 'UH65059', 'FV21968', 'QA87025', 'TQ13499', 'BU44523', 'MS41162', 'PU25891', 'LH92841', 'SX26335', 'AZ95587', 'DS81757', 'OJ94107', 'LP84436', 'FF22360', 'LM19287', 'ZU18643', 'AZ82578', 'XC67861', 'YC43143', 'EK59571', 'PA38372', 'RO18530', 'PD27940', 'BS77946', 'YM50253', 'NR15332', 'RC62865', 'CC15295', 'KA61892', 'OS94884', 'ND87334', 'OY51402', 'YL74911', 'GK92563', 'HL53154', 'RI78966', 'IC13702', 'BE10809', 'HT87217', 'TH95618', 'TS19868', 'LP45550', 'QR87004', 'OE75747', 'DX91392', 'AB72731', 'GX84338', 'IS12901', 'BN90616', 'HH90090', 'IU25463', 'KC11055', 'PD33979', 'NK71023', 'AB13432', 'OZ97704', 'UF46533', 'XP47431', 'GK73582', 'RV98763', 'II62831', 'XK33449', 'TR85083', 'EO95328', 'EN21086', 'YL83902', 'AZ62651', 'ZW25874', 'EH41854', 'MW70227', 'SL22297', 'RV14138', 'UO62808', 'ZX64745', 'FL34139', 'TS11219', 'XX12304', 'SD64087', 'OY38576', 'BG76355', 'IP66913', 'LE95702', 'KX54357', 'EZ78112', 'XN16891', 'XK31350', 'CC30924', 'IT78748', 'KY33386', 'CO44221', 'LK60013', 'DE21533', 'YS94121', 'UK68427', 'TE49565', 'RA88421', 'KQ51983', 'CD88896', 'YV22553', 'WU14435', 'XV84099', 'RI24911', 'KO26461', 'HI14283', 'PT50227', 'BH36570', 'TX17484', 'CT41158', 'AO87348', 'DE55857', 'LF66923', 'CN24514', 'UW32074', 'HP36979', 'PP40919', 'RO73268', 'HO61691', 'BS13062', 'FO35655', 'HR10526', 'IA63417', 'BH35016', 'PK52952', 'OD76309', 'IL28481', 'GY55092', 'UF33451', 'CF15558', 'JM62924', 'EM66435', 'QX45933', 'JI71369', 'JU93290', 'GU66096', 'UC33108', 'LW93867', 'OU78470', 'XW90265', 'HS67749', 'VZ51506', 'UI64281', 'AE98193', 'AZ74055', 'XS76911', 'AY40674', 'NA12740', 'UA84837', 'DJ51510', 'VM58985', 'OH60605', 'UO98052', 'NC53424', 'LQ13873', 'LA97014', 'NB79936', 'NT89061', 'AF10970', 'ZG48513', 'JQ59145', 'FE84989', 'JT52858', 'MC62068', 'EU27538', 'RH42306', 'US23612', 'WV76014', 'RK96223', 'MF82000', 'FM46980', 'SY56792', 'RF61565', 'IM94808', 'VI14730', 'YR34119', 'RR77985', 'QD28391', 'WV17090', 'TM23514', 'MQ68407', 'GJ59592', 'FY56083', 'UA94723', 'FW91032', 'DE34457', 'HD32044', 'HH30454', 'AH84063', 'QA17596', 'XI41052', 'DI30528', 'SC66359', 'EN61670', 'DQ10761', 'BQ51587', 'JE21522', 'WS47147', 'ZA64638', 'EW38459', 'QW87316', 'IC43478', 'TE34064', 'WU60905', 'YM18992', 'PD55753', 'KU56006', 'MJ69973', 'TW43626', 'XX84133', 'ZW84453', 'HO29524', 'VE89726', 'GE87503', 'PX90263', 'NI17718', 'FY32213', 'RZ13254', 'GN45013', 'NM39588', 'KU84464', 'YH43527', 'RO30676', 'QL59704', 'QH19450', 'SA54664', 'CI38330', 'WB38524', 'CE56187', 'JL19416', 'JZ61422', 'LA13377', 'NC99948', 'QD34785', 'RO26085', 'ES57969', 'JK55587', 'RN97635', 'BI76326', 'JA34909', 'OJ90342', 'CM88932', 'JJ97525', 'XV21647', 'MC83487', 'BL90769', 'CR57148', 'CP85232', 'YL74732', 'FG16766', 'NV55438', 'RM10880', 'GL56175', 'UK52289', 'OT85112', 'BC62782', 'TI19722', 'JP30654', 'UM45563', 'EN60878', 'JF36291', 'BK59444', 'MK70700', 'IW71076', 'AP98768', 'OM24164', 'HR85211', 'VC87846', 'ZM92052', 'ON73702', 'QQ90441', 'HU35721', 'YP47665', 'FU99476', 'AG85615', 'OY74069', 'DJ91267', 'KB72438', 'TR67616', 'GF65731', 'HB67642', 'DP84567', 'VV77534', 'GL67540', 'SV50502', 'UK59698', 'OA57352', 'ZF84449', 'AX86150', 'HG39060', 'EM29359', 'SF57173', 'OT47603', 'SW31412', 'JS36322', 'RE81445', 'RM24280', 'LC25393', 'UX38930', 'HD95496', 'RX24650', 'DW19309', 'MT41386', 'WZ40465', 'DB42794', 'JB50798', 'IP69763', 'TE35785', 'HX74855', 'QN65180', 'GE47180', 'VQ38776', 'BH86846', 'IN17648', 'DF95759', 'QG45324', 'MN61620', 'YH86390', 'FY13480', 'YH61661', 'NL93182', 'LN31673', 'WE68644', 'EZ30498', 'QY74517', 'NM88660', 'MZ82036', 'ID20929', 'EY50028', 'TT82373', 'OH64088', 'SK97780', 'IO33050', 'XA55917', 'JK32620', 'RQ19236', 'QC47433', 'RA93608', 'XH97711', 'AU96286', 'KC17170', 'ZN47335', 'EI46264', 'EK87864', 'GV45403', 'QK31192', 'LU89008', 'NS10490', 'KL98495', 'IU96845', 'QL93655', 'PF40592', 'LZ34046', 'JC80093', 'YE88490', 'YC80498', 'AI85843', 'XD66024', 'FY51713', 'PH26378', 'WQ18638', 'KY14688', 'TC97762', 'QC87108', 'CX12134', 'SM73248', 'CK19789', 'UV12583', 'JC11405', 'KA89683', 'BG85305', 'UQ87917', 'XN11823', 'OS46571', 'PX17116', 'RP19541', 'ZR25747', 'NQ86532', 'JY27336', 'PB54378', 'SV38190', 'CV24005', 'EX28656', 'CF57022', 'GM16780', 'BX94438', 'RM41745', 'XR70252', 'YH92099', 'SG81493', 'ZX23819', 'FJ54907', 'CU26127', 'YH60476', 'ZZ97035', 'GE82737', 'KY21873', 'UA51318', 'BV55014', 'HX21307', 'LQ68252', 'CR92802', 'SL35268', 'RD62882', 'JS42382', 'BT30554', 'VP57424', 'VU19243', 'TA82973', 'GK71720', 'OQ61223', 'LL62746', 'JQ56711', 'AW77988', 'QP84605', 'MY97912', 'IB87349', 'AW73065', 'BW80872', 'PX70175', 'KF75098', 'IS50283', 'MY64920', 'KN34250', 'GN46207', 'KL57176', 'MN94234', 'JY90595', 'HK26543', 'PN86062', 'VW27730', 'SH55671', 'MO56878', 'VO38365', 'SV35618', 'RX12347', 'FR55658', 'XS12556', 'ZU73588', 'WT43034', 'VM13430', 'TC78849', 'VC34764', 'WO90953', 'IU47468', 'KO46064', 'RB34917', 'BI38192', 'PU18983', 'SW79912', 'ES39217', 'KP72427', 'UA19178', 'PR53785', 'XF57481', 'CN90378', 'KI56154', 'UI55951', 'FF28650', 'FS55302', 'TN79487', 'HG32616', 'UK41984', 'LZ52266', 'PM27367', 'ZK21724', 'BH35482', 'QE22757', 'ON77649', 'RN82884', 'CQ75652', 'FF58467', 'BS83666', 'WO29605', 'TL77607', 'EZ50606', 'OS39723', 'FN69743', 'XW96958', 'TU92578', 'TL43709', 'YE68736', 'OB96537', 'EU68825', 'CC31456', 'DJ77787', 'LN26837', 'YI92916', 'NW54906', 'ME77513', 'UK76891', 'SI26888', 'YD74948', 'HB64268', 'BW52697', 'NL41409', 'OD69005', 'ZZ91716', 'UK70255', 'QT25383', 'AW18068', 'NS45347', 'FV19421', 'XW89091', 'YC11951', 'UY18770', 'RA49085', 'BG84194', 'PT64580', 'MR67738', 'DM95829', 'DB75522', 'LM34525', 'WW30771', 'QP65569', 'TN50051', 'UO86707', 'JA41698', 'NX18774', 'DA69469', 'CN23147', 'RA68844', 'GH42026', 'BD16530', 'JH91579', 'WK23685', 'GR62267', 'PI78084', 'GF97874', 'ZH19885', 'UK25655', 'QR45101', 'EL93539', 'EE99484', 'DP46882', 'WP41146', 'TK60799', 'DN29808', 'SS59521', 'NG66579', 'TC14209', 'ED50963', 'GP40701', 'CP98451', 'NX52648', 'ZC32510', 'NG27780', 'HN95240', 'EB59129', 'RA70851', 'PM19162', 'MS59005', 'SU71163', 'BD35676', 'NI44621', 'EW33419', 'HX44948', 'DL36983', 'XR87264', 'NN99001', 'XV95530', 'OL97871', 'HQ23708', 'WR63188', 'NG82219', 'KU29408', 'RE46783', 'RU94434', 'GI82355', 'VO26340', 'NV61299', 'DX31066', 'CY50337', 'TJ20375', 'EP72155', 'JJ76159', 'BG15419', 'AO74776', 'HQ82233', 'OL72737', 'ZQ59828', 'NZ15548', 'XK61304', 'EJ44139', 'CM94425', 'OV54878', 'JF57282', 'MY37953', 'XP64922', 'WL65572', 'LN50325', 'HJ15383', 'KH59823', 'YM79169', 'DR38127', 'PU42145', 'KM33477', 'RI53167', 'OF77789', 'YB33445', 'BA17836', 'JS43228', 'BB11622', 'HQ70429', 'WK88044', 'LA80525', 'EH16250', 'PU41872', 'HB85743', 'MM71959', 'MB83663', 'KR43119', 'KH24214', 'AC40767', 'HP55391', 'EG62398', 'VS19949', 'AM92343', 'GI68556', 'JT11876', 'XR64251', 'MK34957', 'GP18756', 'AP23850', 'KQ65521', 'EJ19449', 'QB70027', 'QW47320', 'KH64733', 'ON59472', 'HP94242', 'RV15398', 'EA25683', 'PW73754', 'MC71942', 'OX72195', 'YQ99152', 'KI19439', 'PM76175', 'US45383', 'GT38956', 'SN41301', 'BE62503', 'PA16884', 'NC58480', 'NS39326', 'PN18507', 'EK91340', 'JY16280', 'ZW71731', 'ZC24631', 'YR34689', 'RT65829', 'BZ12077', 'WM65373', 'NH35059', 'QD38160', 'BM15160', 'VY79030', 'EV19512', 'TE13577', 'WY97929', 'YG20683', 'FK75497', 'NE60110', 'TN36521', 'HG33568', 'TW17878', 'ZO83562', 'CH97539', 'CV29889', 'MO33320', 'QZ81258', 'NY56352', 'EA27048', 'UT38865', 'QC89139', 'LA14484', 'HN57556', 'CV31235', 'WR45726', 'LB25094', 'KW56110', 'XO36233', 'ZX86243', 'DW29763', 'CT83377', 'OQ90898', 'GO77248', 'QW33258', 'OU79745', 'VZ79886', 'FI92440', 'YG85980', 'QM74621', 'EI71732', 'VN79010', 'FI61723', 'OH55411', 'TF10720', 'NW30838', 'CB58476', 'WI69346', 'FS76657', 'YX89016', 'PK28821', 'MB51200', 'XG44587', 'FG91922', 'OM99303', 'RV67546', 'UJ79253', 'PN98247', 'IB67546', 'OE19087', 'CM95716', 'MW62634', 'QW67581', 'SN16059', 'OE51254', 'RM42344', 'GB35238', 'ML82674', 'EI85244', 'DE28132', 'TV25678', 'TY26512', 'OB69153', 'QZ77637', 'XN41715', 'QR15857', 'FL69363', 'IS30295', 'WA25797', 'NL59519', 'ZU93025', 'DK94262', 'UQ30615', 'OR40060', 'DK32872', 'FA46418', 'ER19995', 'KI75855', 'ND41876', 'PN21042', 'GJ43254', 'AL46984', 'JP58047', 'ZE85014', 'KU88219', 'UU98729', 'WS82822', 'YB49933', 'XC16387', 'XJ96748', 'TM98684', 'AY18433', 'DM74502', 'FT56968', 'OX36896', 'BZ65376', 'LN34660', 'JC29295', 'KJ87930', 'XT36360', 'IX35050', 'UN97379', 'MR57294', 'UG79499', 'UA50747', 'GL20444', 'SP58110', 'XM91635', 'TV82603', 'BB82067', 'JP94676', 'VU53417', 'IW54795', 'RN78170', 'IX55883', 'XM72420', 'GC15104', 'RX13282', 'QA85890', 'IR62668', 'AL96740', 'SS48498', 'PE39479', 'JH62891', 'FI20423', 'PM13394', 'YV67971', 'QD31377', 'YG10247', 'FE73696', 'SW19699', 'QJ40732', 'HM76207', 'NT59303', 'PU41393', 'QO86948', 'QN10888', 'VY19543', 'XC15133', 'ST43550', 'FX36546', 'JX68983', 'HX78576', 'ZQ11381', 'ON39271', 'SB18278', 'ZT30559', 'XI41106', 'ZS88847', 'RU49126', 'KR62797', 'ZJ73220', 'FY62633', 'CU36986', 'WZ53904', 'AA71604', 'TD10493', 'LY97989', 'VX39856', 'TP51897', 'QQ89253', 'EI91403', 'QG15435', 'FZ55002', 'HX77930', 'UN37063', 'VB87946', 'AB60627', 'TA34903', 'AQ51368', 'NZ26102', 'GB45753', 'BV79904', 'OB49075', 'DS97676', 'JO63462', 'NJ10602', 'RS24501', 'VT78274', 'SU56153', 'MN20737', 'KL43114', 'YQ15567', 'TR88637', 'TC88986', 'XX88577', 'NE49052', 'KX17826', 'CC91503', 'WH32183', 'ES90681', 'DW96592', 'MT23134', 'BM69081', 'MB90871', 'GT62080', 'QL77686', 'ON77827', 'KP18988', 'TI92884', 'JH73503', 'YE97964', 'VA30351', 'PV55726', 'UC88305', 'TS53809', 'ZV32120', 'FB80807', 'AS55677', 'WA15684', 'SA50567', 'KJ31611', 'VL37375', 'KN21017', 'PX44289', 'AM97901', 'RE42925', 'TR81766', 'CH85057', 'UP71482', 'EG40670', 'HV83672', 'MG10140', 'TC44716', 'QO65264', 'EB66698', 'OT52034', 'CH85444', 'PU85769', 'UI73201', 'SL50592', 'XP11075', 'SI31236', 'JN26745', 'VK48036', 'JX76668', 'DS45802', 'OA96690', 'EM27919', 'QO41043', 'OV50124', 'PR31642', 'BU41599', 'TK30357', 'NF31087', 'NH16984', 'OS75493', 'VT63298', 'QS75550', 'SZ16483', 'VM92311', 'NJ46849', 'WZ31900', 'RG30482', 'ZM86949', 'QQ39596', 'FH51383', 'BJ53923', 'CZ96653', 'FB23788', 'NT43594', 'RJ85627', 'KJ86296', 'PI47776', 'MD73554', 'UX92071', 'YG44474', 'UH45301', 'RY92647', 'IK12620', 'GQ66762', 'YT69858', 'XD85577', 'TM65736', 'VJ51327', 'GS98873', 'CW49887', 'MY31220', nan]\n",
      "ST : ['Washington', 'Arizona', 'Nevada', 'California', 'Oregon', 'Cali', 'AZ', 'WA', nan]\n",
      "GENDER : [nan, 'F', 'M', 'Femal', 'Male', 'female']\n",
      "Education : ['Master', 'Bachelor', 'High School or Below', 'College', 'Bachelors', 'Doctor', nan]\n",
      "Policy Type : ['Personal Auto', 'Corporate Auto', 'Special Auto', nan]\n",
      "Vehicle Class : ['Four-Door Car', 'Two-Door Car', 'SUV', 'Luxury SUV', 'Sports Car', 'Luxury Car', nan]\n",
      "Total Claim Amount : [2.704934, 1131.464935, 566.472247, 529.881344, 17.269323, 159.383042, 321.6, 363.02968, 511.2, 425.527834, 482.4, 528.0, 472.029737, 307.139132, 42.920271, 454.245098, 647.442031, 308.981664, 484.8, 355.2, 20.382876, 554.376763, 439.2, 389.185006, 799.2, 20.985105, 532.8, 384.0, 322.294043, 615.927769, 308.15089, 23.820158, 15.437681, 204.475147, 561.6, 436.8, 648.0, 157.397849, 484.318536, 18.918935, 882.871945, 494.4, 31.707317, 0.517753, 579.165954, 447.79344, 529.624084, 313.023175, 593.830288, 508.8, 173.956072, 33.192803, 831.625979, 302.56519, 704.768111, 518.4, 312.0, 504.0, 863.327324, 104.331355, 676.391482, 350.4, 537.6, 465.258644, 456.0, 500.254235, 281.451042, 5.434505, 307.2, 982.399613, 467.803638, 29.03416, 41.122303, 427.63121, 25.807685, 787.993313, 489.6, 302.4, 475.623251, 45.215059, 460.8, 282.151207, 364.8, 679.827592, 46.041452, 11.879037, 350.529033, 863.3947, 492.127532, 132.588288, 297.6, 269.905129, 380.036697, 513.6, 425.266308, 49.011099, 936.0, 142.062768, 45.152521, 30.567357, 271.606799, 408.0, 46.158117, 784.8, 316.8, 48.046869, 638.4, 465.633954, 368.400146, 236.902001, 49.451117, 64.109663, 326.4, 921.6, 101.89645, 542.4, 143.747794, 424.077159, 50.422181, 523.2, 113.801497, 192.87572, 828.662719, 975.107098, 53.798708, 50.528355, 289.9122, 392.604371, 721.242206, 456.52385, 1087.995426, 51.961915, 251.992083, 345.6, 99.257608, 56.731578, 57.562324, 604.8, 8.312729, 316.599228, 56.300724, 393.6, 701.708239, 128.705563, 679.368378, 59.987126, 566.4, 61.654262, 554.4, 465.41477, 496.8, 292.8, 256.813837, 542.319401, 303.148399, 25.438063, 84.024413, 61.693771, 232.926145, 68.179721, 710.433775, 552.0, 1122.658899, 408.374746, 792.0, 754.358929, 702.990032, 206.837111, 275.395894, 459.738128, 336.0, 430.994107, 1836.0, 67.632476, 844.481918, 722.486994, 590.4, 481.027516, 1124.427734, 669.682001, 1284.093173, 240.259479, 912.0, 556.8, 115.086827, 470.4, 383.167471, 307.963291, 520.364752, 466.436375, 451.670309, 331.2, 428.734656, 398.4, 369.6, 831.752839, 156.124914, 373.428187, 395.934815, 231.201886, 289.904105, 729.6, 105.765111, 639.464548, 383.442328, 99.085943, 566.935022, 412.8, 388.8, 2345.413441, 773.470977, 424.883448, 364.240307, 354.729129, 283.995953, 403.2, 20.543176, 385.115437, 140.165035, 102.879769, 56.868289, 463.158502, 205.444066, 741.6, 56.371967, 813.6, 795.864079, 614.4, 72.438681, 67.881546, 402.636829, 641.388616, 342.481173, 340.8, 412.101933, 73.700573, 374.4, 722.024742, 259.361117, 396.295614, 358.281562, 653.388564, 121.032372, 92.813396, 159.636956, 476.156957, 727.2, 42.078345, 200.11606, 676.944023, 76.609295, 830.623064, 580.473259, 60.036683, 47.53101, 303.872752, 100.620067, 481.339891, 1101.6, 86.320022, 667.2, 56.60333, 262.865172, 309.577946, 365.364581, 705.6, 9.51528, 244.564334, 639.105556, 453.6, 554.522969, 402.449823, 327.020539, 5.3953, 131.401291, 99.382943, 856.8, 739.2, 84.218363, 64.546877, 441.6, 37.910623, 202.860399, 85.809817, 91.146661, 286.234931, 1159.2, 466.570791, 1252.406235, 421.484456, 430.505942, 398.502948, 7.646763, 55.510526, 351.270869, 806.4, 647.454583, 128.43823, 302.033971, 480.0, 1003.160633, 379.2, 244.362072, 201.455005, 91.55098, 91.834668, 707.430832, 92.915251, 376.126419, 152.184244, 176.819414, 104.454624, 941.718054, 468.0, 94.030308, 67.859881, 539.843003, 95.193157, 95.338505, 626.4, 494.395024, 115.545086, 19.938981, 799.926741, 878.4, 444.470676, 268.819985, 101.288069, 1317.6, 691.412378, 804.811859, 1090.86434, 50.587035, 151.528482, 347.075948, 271.697529, 849.6, 110.484661, 113.534474, 595.2, 113.609508, 1337.063487, 114.273025, 125.194389, 235.220971, 395.34111, 114.798771, 772.798511, 633.6, 168.517149, 845.654042, 115.728852, 668.29397, 700.901632, 525.6, 25.299, 375.330097, 418.233667, 398.240791, 938.513425, 338.619869, 339.344531, 302.818833, 619.165344, 259.561195, 179.161843, 662.4, 75.501852, 306.983596, 84.026848, 139.489926, 607.4459, 631.124372, 628.023494, 426.655599, 91.417923, 317.844812, 118.446235, 86.461582, 118.454974, 362.774545, 221.856184, 980.169081, 614.675906, 145.252168, 374.240783, 619.2, 80.669257, 1324.8, 468.566133, 842.43785, 475.2, 1171.93117, 268.471802, 138.722385, 467.24802, 467.503236, 1214.4, 192.085299, 619.973889, 1002.782553, 251.774574, 866.208321, 1210.920949, 599.648466, 2027.724442, 72.852047, 449.819671, 259.060862, 299.356083, 699.1679, 117.959654, 545.240341, 328.231432, 66.568642, 1382.4, 121.306839, 609.6, 125.933005, 655.41333, 673.34265, 23.810491, 451.2, 231.922173, 772.8, 664.980242, 128.645946, 46.492039, 432.0, 78.085149, 564.466556, 289.040734, 155.938593, 326.549425, 653.65668, 103.935601, 809.532341, 580.72531, 133.735395, 238.005074, 1577.674417, 135.892444, 135.26125, 571.2, 637.063458, 75.936096, 136.291083, 67.530904, 312.921256, 166.937747, 135.382194, 17.742954, 1.838367, 197.776009, 612.102262, 1193.036154, 600.0, 136.829537, 926.4, 392.6364, 215.226476, 160.598662, 371.803029, 443.670399, 612.300581, 290.391526, 316.795337, 405.527937, 208.598246, 138.130879, 301.437365, 456.473115, 152.338562, 491.755368, 48.517439, 430.375049, 246.489123, 128.969729, 185.355353, 1300.8, 9.071305, 133.475315, 141.199465, 623.223617, 427.2, 141.725051, 211.336937, 147.080303, 862.762957, 113.367765, 943.2, 117.672722, 225.145949, 182.432565, 148.173152, 155.570802, 212.391975, 174.041566, 486.278557, 1.924709, 262.12205, 541.695658, 327.682669, 1265.570302, 63.043197, 15.631363, 375.866091, 452.616872, 113.450122, 16.03451, 615.27228, 615.256301, 512.66245, 74.523935, 426.072946, 169.287785, 419.464143, 158.077504, 669.6, 395.729716, 159.756733, 58.557552, 8.582971, 285.418473, 410.508316, 244.23135, 218.598065, 643.826716, 497.047297, 1022.4, 657.6, 230.245772, 5.622751, 160.07526, 34.651305, 678.100487, 174.588413, 159.391681, 698.4, 232.711071, 163.046956, 79.865605, 382.085897, 48.348319, 133.425609, 561.414794, 445.287788, 165.570243, 407.99684, 844.229478, 340.306584, 106.647493, 626.116259, 784.65781, 547.2, 86.27772, 63.516572, 120.015609, 1254.137899, 417.6, 798.002689, 82.041684, 22.819088, 422.4, 639.971388, 511.497882, 239.540223, 518.180364, 715.252366, 402.070719, 94.814032, 972.0, 73.883044, 574.024018, 632.715382, 4.238626, 42.248087, 27.145151, 270.002766, 494.946438, 142.567008, 251.334247, 369.818708, 161.419528, 255.999709, 61.769564, 1310.4, 250.001424, 141.799422, 49.797016, 372.175592, 542.14385, 1360.8, 768.0, 72.632934, 720.601429, 576.0, 481.025786, 466.176731, 159.266473, 41.283167, 503.808329, 859.599411, 305.653785, 278.902846, 1416.0, 139.963594, 734.4, 37.299865, 95.816516, 1008.0, 446.4, 72.205362, 401.592109, 253.183568, 643.2, 799.673766, 27.987867, 166.77296, 270.563995, 178.006524, 404.265696, 513.818403, 131.828507, 628.8, 178.986788, 392.235698, 873.6, 0.382107, 187.363583, 350.853987, 217.973168, 25.934064, 188.938397, 153.205591, 2893.239678, 629.532731, 361.284757, 1185.988301, 425.800112, 190.43446, 193.505325, 24.087774, 219.288706, 881.360959, 26.951627, 466.122541, 607.095655, 290.381707, 558.099357, 828.0, 540.514115, 100.049832, 59.861963, 193.57032, 199.79727, 53.084753, 256.43803, 211.136067, 74.350893, 621.464468, 360.05589, 65.954813, 407.450118, 1228.8, 24.063693, 311.329282, 42.689135, 460.323855, 213.225001, 300.607591, 262.504882, 263.365432, 256.268091, 215.8182, 1353.6, 499.2, 45.507952, 691.2, 82.409922, 357.642982, 420.35698, 136.787725, 220.186677, 170.798204, 266.165535, 98.921782, 281.295903, 631.743039, 29.209521, 136.883999, 31.755601, 224.27582, 830.4, 480.159011, 390.792553, 72.071195, 41.965252, 1027.000029, 319.820747, 411.011162, 4.110585, 351.149904, 284.000172, 496.474767, 925.137143, 13.164097, 227.872071, 463.335061, 180.667969, 302.764283, 141.922839, 349.783046, 54.065538, 342.515136, 1027.177255, 275.989978, 472.599683, 1336.931716, 7.345946, 540.141566, 383.363758, 537.765151, 321.873474, 19.575683, 108.138715, 707.303416, 1067.333126, 807.947292, 618.630955, 404.272806, 710.4, 707.977614, 232.242326, 68.226001, 287.149807, 391.636628, 239.328571, 232.674417, 336.50961, 244.212286, 328.870868, 85.063708, 1418.4, 334.408717, 42.096415, 300.528579, 144.782152, 64.598216, 347.857619, 245.447622, 955.2, 720.752945, 340.656963, 546.524896, 489.411833, 171.325856, 249.085887, 30.874869, 361.455219, 207.320041, nan]\n"
     ]
    }
   ],
   "source": [
    "#Identify the number of unique values for each column and determine\n",
    "# which columns appear to be categorical. You should also describe\n",
    "#  the unique values of each categorical column and the range of \n",
    "# values for numerical columns, and give your insights.\n",
    "column_names = list[insurance_company.columns]\n",
    "print(column_names)\n",
    "\n",
    "categorical_columns = ('Customer', 'ST', 'GENDER', 'Education','Policy Type', 'Vehicle Class',\"Total Claim Amount\")\n",
    "for column in categorical_columns:\n",
    "    print(column,\":\",list(insurance_company[column].unique()))\n"
   ]
  },
  {
   "cell_type": "code",
   "execution_count": 6,
   "id": "f95155dc",
   "metadata": {},
   "outputs": [
    {
     "name": "stdout",
     "output_type": "stream",
     "text": [
      "Customer Lifetime Value     object\n",
      "Income                     float64\n",
      "Monthly Premium Auto       float64\n",
      "Total Claim Amount         float64\n",
      "dtype: object\n"
     ]
    }
   ],
   "source": [
    "#Determine the data types of each column and evaluate whether they are appropriate for the nature of the variable. \n",
    "# You should also provide suggestions for fixing any incorrect data types.\n",
    "numerical_variables = [\"Customer Lifetime Value\", \"Income\", \"Monthly Premium Auto\", \"Total Claim Amount\"] \n",
    "print(insurance_company[numerical_variables].dtypes)\n",
    "\n",
    "#Customer Lifetime Value shoul be a number also. "
   ]
  },
  {
   "cell_type": "markdown",
   "id": "4a703890-63db-4944-b7ab-95a4f8185120",
   "metadata": {},
   "source": [
    "## Challenge 2: analyzing the data"
   ]
  },
  {
   "cell_type": "markdown",
   "id": "0776a403-c56a-452f-ac33-5fd4fdb06fc7",
   "metadata": {},
   "source": [
    "### Exercise 1"
   ]
  },
  {
   "cell_type": "markdown",
   "id": "eedbc484-da4d-4f9c-9343-e1d44311a87e",
   "metadata": {},
   "source": [
    "The marketing team wants to know the top 5 less common customer locations. Create a pandas Series object that contains the customer locations and their frequencies, and then retrieve the top 5 less common locations in ascending order."
   ]
  },
  {
   "cell_type": "code",
   "execution_count": 7,
   "id": "2dca5073-4520-4f42-9390-4b92733284ed",
   "metadata": {},
   "outputs": [
    {
     "name": "stdout",
     "output_type": "stream",
     "text": [
      "The five less common customer locations are: \n",
      "ST\n",
      "AZ             25\n",
      "WA             30\n",
      "Washington     81\n",
      "Nevada         98\n",
      "Cali          120\n",
      "Name: count, dtype: int64\n"
     ]
    }
   ],
   "source": [
    "# Your code here\n",
    "customer_location = insurance_company['ST'].value_counts()\n",
    "#print(customer_location)\n",
    "print(f'The five less common customer locations are: \\n{customer_location.tail(5).sort_values()}')"
   ]
  },
  {
   "cell_type": "markdown",
   "id": "0ce80f43-4afa-43c7-a78a-c917444da4e0",
   "metadata": {},
   "source": [
    "### Exercise 2\n",
    "\n",
    "The sales team wants to know the total number of policies sold for each type of policy. Create a pandas Series object that contains the policy types and their total number of policies sold, and then retrieve the policy type with the highest number of policies sold."
   ]
  },
  {
   "cell_type": "markdown",
   "id": "a9f13997-1555-4f98-aca6-970fda1d2c3f",
   "metadata": {},
   "source": [
    "*Hint:*\n",
    "- *Using value_counts() method simplifies this analysis.*\n",
    "- *Futhermore, there is a method that returns the index of the maximum value in a column or row.*\n"
   ]
  },
  {
   "cell_type": "code",
   "execution_count": 17,
   "id": "bcfad6c1-9af2-4b0b-9aa9-0dc5c17473c0",
   "metadata": {},
   "outputs": [
    {
     "name": "stdout",
     "output_type": "stream",
     "text": [
      "Total number of policies sold: \n",
      " Policy Type\n",
      "Personal Auto     780\n",
      "Corporate Auto    234\n",
      "Special Auto       57\n",
      "Name: count, dtype: int64\n"
     ]
    }
   ],
   "source": [
    "# Your code here\n",
    "#the total number of policies sold for each type of policy. \n",
    "# Create a pandas Series object that contains the policy \n",
    "# types and their total number of policies sold, and then \n",
    "# retrieve the policy type with the highest number of \n",
    "# policies sold.\n",
    "policy_type = insurance_company['Policy Type'].value_counts()\n",
    "print(f'Total number of policies sold: \\n {policy_type}')\n",
    "#print(f'Number of policies sold: \\n {insurance_company['Policy Type'].sum()}')\n",
    "#print(f'Policy type with the highest number of policies sold: {insurance_company['Policy Type'].idxmax()}')\n"
   ]
  },
  {
   "cell_type": "markdown",
   "id": "0b863fd3-bf91-4d5d-86eb-be29ed9f5b70",
   "metadata": {},
   "source": [
    "### Exercise 3\n",
    "\n",
    "The sales team wants to know if customers with Personal Auto have a lower income than those with Corporate Auto. How does the average income compare between the two policy types?"
   ]
  },
  {
   "cell_type": "markdown",
   "id": "b1386d75-2810-4aa1-93e0-9485aa12d552",
   "metadata": {},
   "source": [
    "- Use *loc* to create two dataframes: one containing only Personal Auto policies and one containing only Corporate Auto policies.\n",
    "- Calculate the average income for each policy.\n",
    "- Print the results."
   ]
  },
  {
   "cell_type": "code",
   "execution_count": 19,
   "id": "0c0563cf-6f8b-463d-a321-651a972f82e5",
   "metadata": {},
   "outputs": [
    {
     "data": {
      "text/html": [
       "<div>\n",
       "<style scoped>\n",
       "    .dataframe tbody tr th:only-of-type {\n",
       "        vertical-align: middle;\n",
       "    }\n",
       "\n",
       "    .dataframe tbody tr th {\n",
       "        vertical-align: top;\n",
       "    }\n",
       "\n",
       "    .dataframe thead th {\n",
       "        text-align: right;\n",
       "    }\n",
       "</style>\n",
       "<table border=\"1\" class=\"dataframe\">\n",
       "  <thead>\n",
       "    <tr style=\"text-align: right;\">\n",
       "      <th></th>\n",
       "      <th>Customer</th>\n",
       "      <th>ST</th>\n",
       "      <th>GENDER</th>\n",
       "      <th>Education</th>\n",
       "      <th>Customer Lifetime Value</th>\n",
       "      <th>Income</th>\n",
       "      <th>Monthly Premium Auto</th>\n",
       "      <th>Number of Open Complaints</th>\n",
       "      <th>Policy Type</th>\n",
       "      <th>Vehicle Class</th>\n",
       "      <th>Total Claim Amount</th>\n",
       "    </tr>\n",
       "  </thead>\n",
       "  <tbody>\n",
       "    <tr>\n",
       "      <th>3</th>\n",
       "      <td>WW63253</td>\n",
       "      <td>California</td>\n",
       "      <td>M</td>\n",
       "      <td>Bachelor</td>\n",
       "      <td>764586.18%</td>\n",
       "      <td>0.0</td>\n",
       "      <td>106.0</td>\n",
       "      <td>1/0/00</td>\n",
       "      <td>Corporate Auto</td>\n",
       "      <td>SUV</td>\n",
       "      <td>529.881344</td>\n",
       "    </tr>\n",
       "    <tr>\n",
       "      <th>6</th>\n",
       "      <td>XZ87318</td>\n",
       "      <td>Oregon</td>\n",
       "      <td>F</td>\n",
       "      <td>College</td>\n",
       "      <td>538089.86%</td>\n",
       "      <td>55350.0</td>\n",
       "      <td>67.0</td>\n",
       "      <td>1/0/00</td>\n",
       "      <td>Corporate Auto</td>\n",
       "      <td>Four-Door Car</td>\n",
       "      <td>321.600000</td>\n",
       "    </tr>\n",
       "    <tr>\n",
       "      <th>7</th>\n",
       "      <td>CF85061</td>\n",
       "      <td>Arizona</td>\n",
       "      <td>M</td>\n",
       "      <td>Master</td>\n",
       "      <td>721610.03%</td>\n",
       "      <td>0.0</td>\n",
       "      <td>101.0</td>\n",
       "      <td>1/0/00</td>\n",
       "      <td>Corporate Auto</td>\n",
       "      <td>Four-Door Car</td>\n",
       "      <td>363.029680</td>\n",
       "    </tr>\n",
       "    <tr>\n",
       "      <th>8</th>\n",
       "      <td>DY87989</td>\n",
       "      <td>Oregon</td>\n",
       "      <td>M</td>\n",
       "      <td>Bachelor</td>\n",
       "      <td>2412750.40%</td>\n",
       "      <td>14072.0</td>\n",
       "      <td>71.0</td>\n",
       "      <td>1/0/00</td>\n",
       "      <td>Corporate Auto</td>\n",
       "      <td>Four-Door Car</td>\n",
       "      <td>511.200000</td>\n",
       "    </tr>\n",
       "    <tr>\n",
       "      <th>12</th>\n",
       "      <td>DP39365</td>\n",
       "      <td>California</td>\n",
       "      <td>NaN</td>\n",
       "      <td>Master</td>\n",
       "      <td>879879.70%</td>\n",
       "      <td>77026.0</td>\n",
       "      <td>110.0</td>\n",
       "      <td>1/2/00</td>\n",
       "      <td>Corporate Auto</td>\n",
       "      <td>Four-Door Car</td>\n",
       "      <td>472.029737</td>\n",
       "    </tr>\n",
       "  </tbody>\n",
       "</table>\n",
       "</div>"
      ],
      "text/plain": [
       "   Customer          ST GENDER Education Customer Lifetime Value   Income  \\\n",
       "3   WW63253  California      M  Bachelor              764586.18%      0.0   \n",
       "6   XZ87318      Oregon      F   College              538089.86%  55350.0   \n",
       "7   CF85061     Arizona      M    Master              721610.03%      0.0   \n",
       "8   DY87989      Oregon      M  Bachelor             2412750.40%  14072.0   \n",
       "12  DP39365  California    NaN    Master              879879.70%  77026.0   \n",
       "\n",
       "    Monthly Premium Auto Number of Open Complaints     Policy Type  \\\n",
       "3                  106.0                    1/0/00  Corporate Auto   \n",
       "6                   67.0                    1/0/00  Corporate Auto   \n",
       "7                  101.0                    1/0/00  Corporate Auto   \n",
       "8                   71.0                    1/0/00  Corporate Auto   \n",
       "12                 110.0                    1/2/00  Corporate Auto   \n",
       "\n",
       "    Vehicle Class  Total Claim Amount  \n",
       "3             SUV          529.881344  \n",
       "6   Four-Door Car          321.600000  \n",
       "7   Four-Door Car          363.029680  \n",
       "8   Four-Door Car          511.200000  \n",
       "12  Four-Door Car          472.029737  "
      ]
     },
     "execution_count": 19,
     "metadata": {},
     "output_type": "execute_result"
    }
   ],
   "source": [
    "# Your code here\n",
    "#Use *loc* to create two dataframes: one containing only \n",
    "# Personal Auto policies and one containing only Corporate Auto policies.\n",
    "df_personal = insurance_company.loc[insurance_company['Policy Type'] == 'Personal Auto']\n",
    "df_corporate = insurance_company.loc[insurance_company['Policy Type'] == 'Corporate Auto']\n",
    "df_corporate.head()"
   ]
  },
  {
   "cell_type": "code",
   "execution_count": 20,
   "id": "436338ed",
   "metadata": {},
   "outputs": [
    {
     "name": "stdout",
     "output_type": "stream",
     "text": [
      "The average income in pcorporate policies is: 41390.31\n"
     ]
    }
   ],
   "source": [
    "#- Calculate the average income for each policy.\n",
    "average_corporate = round(df_corporate['Income'].mean(),2)\n",
    "print(f'The average income in pcorporate policies is: {average_corporate}')"
   ]
  },
  {
   "cell_type": "code",
   "execution_count": 21,
   "id": "5fdfc5bd",
   "metadata": {},
   "outputs": [
    {
     "data": {
      "text/html": [
       "<div>\n",
       "<style scoped>\n",
       "    .dataframe tbody tr th:only-of-type {\n",
       "        vertical-align: middle;\n",
       "    }\n",
       "\n",
       "    .dataframe tbody tr th {\n",
       "        vertical-align: top;\n",
       "    }\n",
       "\n",
       "    .dataframe thead th {\n",
       "        text-align: right;\n",
       "    }\n",
       "</style>\n",
       "<table border=\"1\" class=\"dataframe\">\n",
       "  <thead>\n",
       "    <tr style=\"text-align: right;\">\n",
       "      <th></th>\n",
       "      <th>Customer</th>\n",
       "      <th>ST</th>\n",
       "      <th>GENDER</th>\n",
       "      <th>Education</th>\n",
       "      <th>Customer Lifetime Value</th>\n",
       "      <th>Income</th>\n",
       "      <th>Monthly Premium Auto</th>\n",
       "      <th>Number of Open Complaints</th>\n",
       "      <th>Policy Type</th>\n",
       "      <th>Vehicle Class</th>\n",
       "      <th>Total Claim Amount</th>\n",
       "    </tr>\n",
       "  </thead>\n",
       "  <tbody>\n",
       "    <tr>\n",
       "      <th>0</th>\n",
       "      <td>RB50392</td>\n",
       "      <td>Washington</td>\n",
       "      <td>NaN</td>\n",
       "      <td>Master</td>\n",
       "      <td>NaN</td>\n",
       "      <td>0.0</td>\n",
       "      <td>1000.0</td>\n",
       "      <td>1/0/00</td>\n",
       "      <td>Personal Auto</td>\n",
       "      <td>Four-Door Car</td>\n",
       "      <td>2.704934</td>\n",
       "    </tr>\n",
       "    <tr>\n",
       "      <th>1</th>\n",
       "      <td>QZ44356</td>\n",
       "      <td>Arizona</td>\n",
       "      <td>F</td>\n",
       "      <td>Bachelor</td>\n",
       "      <td>697953.59%</td>\n",
       "      <td>0.0</td>\n",
       "      <td>94.0</td>\n",
       "      <td>1/0/00</td>\n",
       "      <td>Personal Auto</td>\n",
       "      <td>Four-Door Car</td>\n",
       "      <td>1131.464935</td>\n",
       "    </tr>\n",
       "    <tr>\n",
       "      <th>2</th>\n",
       "      <td>AI49188</td>\n",
       "      <td>Nevada</td>\n",
       "      <td>F</td>\n",
       "      <td>Bachelor</td>\n",
       "      <td>1288743.17%</td>\n",
       "      <td>48767.0</td>\n",
       "      <td>108.0</td>\n",
       "      <td>1/0/00</td>\n",
       "      <td>Personal Auto</td>\n",
       "      <td>Two-Door Car</td>\n",
       "      <td>566.472247</td>\n",
       "    </tr>\n",
       "    <tr>\n",
       "      <th>4</th>\n",
       "      <td>GA49547</td>\n",
       "      <td>Washington</td>\n",
       "      <td>M</td>\n",
       "      <td>High School or Below</td>\n",
       "      <td>536307.65%</td>\n",
       "      <td>36357.0</td>\n",
       "      <td>68.0</td>\n",
       "      <td>1/0/00</td>\n",
       "      <td>Personal Auto</td>\n",
       "      <td>Four-Door Car</td>\n",
       "      <td>17.269323</td>\n",
       "    </tr>\n",
       "    <tr>\n",
       "      <th>5</th>\n",
       "      <td>OC83172</td>\n",
       "      <td>Oregon</td>\n",
       "      <td>F</td>\n",
       "      <td>Bachelor</td>\n",
       "      <td>825629.78%</td>\n",
       "      <td>62902.0</td>\n",
       "      <td>69.0</td>\n",
       "      <td>1/0/00</td>\n",
       "      <td>Personal Auto</td>\n",
       "      <td>Two-Door Car</td>\n",
       "      <td>159.383042</td>\n",
       "    </tr>\n",
       "  </tbody>\n",
       "</table>\n",
       "</div>"
      ],
      "text/plain": [
       "  Customer          ST GENDER             Education Customer Lifetime Value  \\\n",
       "0  RB50392  Washington    NaN                Master                     NaN   \n",
       "1  QZ44356     Arizona      F              Bachelor              697953.59%   \n",
       "2  AI49188      Nevada      F              Bachelor             1288743.17%   \n",
       "4  GA49547  Washington      M  High School or Below              536307.65%   \n",
       "5  OC83172      Oregon      F              Bachelor              825629.78%   \n",
       "\n",
       "    Income  Monthly Premium Auto Number of Open Complaints    Policy Type  \\\n",
       "0      0.0                1000.0                    1/0/00  Personal Auto   \n",
       "1      0.0                  94.0                    1/0/00  Personal Auto   \n",
       "2  48767.0                 108.0                    1/0/00  Personal Auto   \n",
       "4  36357.0                  68.0                    1/0/00  Personal Auto   \n",
       "5  62902.0                  69.0                    1/0/00  Personal Auto   \n",
       "\n",
       "   Vehicle Class  Total Claim Amount  \n",
       "0  Four-Door Car            2.704934  \n",
       "1  Four-Door Car         1131.464935  \n",
       "2   Two-Door Car          566.472247  \n",
       "4  Four-Door Car           17.269323  \n",
       "5   Two-Door Car          159.383042  "
      ]
     },
     "execution_count": 21,
     "metadata": {},
     "output_type": "execute_result"
    }
   ],
   "source": [
    "df_personal.head()"
   ]
  },
  {
   "cell_type": "code",
   "execution_count": 22,
   "id": "06198909",
   "metadata": {},
   "outputs": [
    {
     "name": "stdout",
     "output_type": "stream",
     "text": [
      "The average income in personal policies is: 38180.7\n"
     ]
    }
   ],
   "source": [
    "#- Calculate the average income for each policy.\n",
    "average_personal = round(df_personal['Income'].mean(),2)\n",
    "print(f'The average income in personal policies is: {average_personal}')"
   ]
  },
  {
   "cell_type": "markdown",
   "id": "80b16c27-f4a5-4727-a229-1f88671cf4e2",
   "metadata": {},
   "source": [
    "### Bonus: Exercise 4\n"
   ]
  },
  {
   "cell_type": "markdown",
   "id": "ac584986-299b-475f-ac2e-928c16c3f512",
   "metadata": {},
   "source": [
    "Your goal is to identify customers with a high policy claim amount.\n",
    "\n",
    "Instructions:\n",
    "\n",
    "- Review again the statistics for total claim amount to gain an understanding of the data.\n",
    "- To identify potential areas for improving customer retention and profitability, we want to focus on customers with a high policy claim amount. Consider customers with a high policy claim amount to be those in the top 25% of the total claim amount. Create a pandas DataFrame object that contains information about customers with a policy claim amount greater than the 75th percentile.\n",
    "- Use DataFrame methods to calculate summary statistics about the high policy claim amount data. "
   ]
  },
  {
   "cell_type": "markdown",
   "id": "4e3af5f1-6023-4b05-9c01-d05392daa650",
   "metadata": {},
   "source": [
    "*Note: When analyzing data, we often want to focus on certain groups of values to gain insights. Percentiles are a useful tool to help us define these groups. A percentile is a measure that tells us what percentage of values in a dataset are below a certain value. For example, the 75th percentile represents the value below which 75% of the data falls. Similarly, the 25th percentile represents the value below which 25% of the data falls. When we talk about the top 25%, we are referring to the values that fall above the 75th percentile, which represent the top quarter of the data. On the other hand, when we talk about the bottom 25%, we are referring to the values that fall below the 25th percentile, which represent the bottom quarter of the data. By focusing on these groups, we can identify patterns and trends that may be useful for making decisions and taking action.*\n",
    "\n",
    "*Hint: look for a method that gives you the percentile or quantile 0.75 and 0.25 for a Pandas Series.*"
   ]
  },
  {
   "cell_type": "markdown",
   "id": "2d234634-50bd-41e0-88f7-d5ba684455d1",
   "metadata": {},
   "source": [
    "*Hint 2: check `Boolean selection according to the values of a single column` in https://towardsdatascience.com/filtering-data-frames-in-pandas-b570b1f834b9*"
   ]
  },
  {
   "cell_type": "code",
   "execution_count": null,
   "id": "b731bca6-a760-4860-a27b-a33efa712ce0",
   "metadata": {},
   "outputs": [],
   "source": [
    "# Your code here"
   ]
  }
 ],
 "metadata": {
  "kernelspec": {
   "display_name": "Python 3 (ipykernel)",
   "language": "python",
   "name": "python3"
  },
  "language_info": {
   "codemirror_mode": {
    "name": "ipython",
    "version": 3
   },
   "file_extension": ".py",
   "mimetype": "text/x-python",
   "name": "python",
   "nbconvert_exporter": "python",
   "pygments_lexer": "ipython3",
   "version": "3.11.7"
  }
 },
 "nbformat": 4,
 "nbformat_minor": 5
}
